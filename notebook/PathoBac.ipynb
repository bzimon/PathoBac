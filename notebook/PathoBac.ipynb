{
 "cells": [
  {
   "cell_type": "code",
   "execution_count": null,
   "id": "d1d43978",
   "metadata": {
    "ExecuteTime": {
     "end_time": "2021-07-12T07:15:06.816750Z",
     "start_time": "2021-07-12T07:15:05.701305Z"
    },
    "run_control": {
     "marked": true
    }
   },
   "outputs": [],
   "source": [
    "import time\n",
    "from tqdm.notebook import tqdm\n",
    "\n",
    "import logging\n",
    "from gensim.models.word2vec import Word2Vec\n",
    "#from gensim.models.word2vec import FAST_VERSION\n",
    "#from phages2050.features.transformers.kmers import KMersTransformer, GenomeAvgTransformer\n",
    "\n",
    "import ncbi.datasets\n",
    "from ncbi.datasets.openapi import ApiException\n",
    "\n",
    "from Bio import SeqIO\n",
    "\n",
    "import pandas as pd\n",
    "\n",
    "from jupyterthemes import jtplot\n",
    "jtplot.style(theme='monokai', context='notebook', ticks=True, grid=False)"
   ]
  },
  {
   "cell_type": "code",
   "execution_count": 2,
   "id": "d760de75",
   "metadata": {
    "ExecuteTime": {
     "end_time": "2021-07-11T20:29:16.131291Z",
     "start_time": "2021-07-11T20:29:16.128941Z"
    }
   },
   "outputs": [],
   "source": [
    "MAX_PER_PAGE =1000"
   ]
  },
  {
   "cell_type": "markdown",
   "id": "2ddcefe1",
   "metadata": {
    "ExecuteTime": {
     "end_time": "2021-07-11T13:03:31.040022Z",
     "start_time": "2021-07-11T13:03:31.037452Z"
    }
   },
   "source": [
    "# Get Genomes"
   ]
  },
  {
   "cell_type": "code",
   "execution_count": 39,
   "id": "01802304",
   "metadata": {
    "ExecuteTime": {
     "end_time": "2021-07-11T18:36:19.130885Z",
     "start_time": "2021-07-11T18:29:00.259209Z"
    },
    "scrolled": true
   },
   "outputs": [
    {
     "name": "stderr",
     "output_type": "stream",
     "text": [
      "  7%|▋         | 10000/152234 [03:35<51:07, 46.36it/s] \n",
      "  5%|▍         | 7000/152234 [00:19<06:43, 359.99it/s]"
     ]
    },
    {
     "name": "stdout",
     "output_type": "stream",
     "text": [
      "(504)\n",
      "Reason: Gateway Timeout\n",
      "HTTP response headers: HTTPHeaderDict({'Date': 'Sun, 11 Jul 2021 18:29:23 GMT', 'Server': 'Apache', 'Strict-Transport-Security': 'max-age=31536000; includeSubDomains; preload', 'Content-Security-Policy': 'upgrade-insecure-requests', 'Ncbi-Phid': '939B4489D254C1D5000054ACBF49DF2C.1.1', 'Content-Length': '230', 'X-Datasets-Version': '12.3.0', 'Content-Type': 'application/json', 'Vary': 'Accept-Encoding', 'X-UA-Compatible': 'IE=Edge', 'X-XSS-Protection': '1; mode=block'})\n",
      "HTTP response body: {\"error\":\"Gateway Timeout\",\"code\":504,\"message\":\"Internal server error - request timed out (For more help, see the NCBI Datasets Documentation at https://www.ncbi.nlm.nih.gov/datasets/docs/) (939B4489D254C1D5000054ACBF49DF2C.1)\"}\n",
      "\n",
      " waiting 15s\n"
     ]
    },
    {
     "name": "stderr",
     "output_type": "stream",
     "text": [
      " 12%|█▏        | 19000/152234 [01:10<07:21, 301.59it/s]"
     ]
    },
    {
     "name": "stdout",
     "output_type": "stream",
     "text": [
      "(504)\n",
      "Reason: Gateway Timeout\n",
      "HTTP response headers: HTTPHeaderDict({'Date': 'Sun, 11 Jul 2021 18:30:14 GMT', 'Server': 'Apache', 'Strict-Transport-Security': 'max-age=31536000; includeSubDomains; preload', 'Content-Security-Policy': 'upgrade-insecure-requests', 'Ncbi-Phid': 'D0BD40F51D9A9365000047A46DE10779.1.1', 'Content-Length': '230', 'X-Datasets-Version': '12.3.0', 'Content-Type': 'application/json', 'Vary': 'Accept-Encoding', 'X-UA-Compatible': 'IE=Edge', 'X-XSS-Protection': '1; mode=block'})\n",
      "HTTP response body: {\"error\":\"Gateway Timeout\",\"code\":504,\"message\":\"Internal server error - request timed out (For more help, see the NCBI Datasets Documentation at https://www.ncbi.nlm.nih.gov/datasets/docs/) (D0BD40F51D9A9365000047A46DE10779.1)\"}\n",
      "\n",
      " waiting 15s\n"
     ]
    },
    {
     "name": "stderr",
     "output_type": "stream",
     "text": [
      " 82%|████████▏ | 125000/152234 [06:00<00:51, 532.04it/s]"
     ]
    },
    {
     "name": "stdout",
     "output_type": "stream",
     "text": [
      "(504)\n",
      "Reason: Gateway Timeout\n",
      "HTTP response headers: HTTPHeaderDict({'Date': 'Sun, 11 Jul 2021 18:35:04 GMT', 'Server': 'Apache', 'Strict-Transport-Security': 'max-age=31536000; includeSubDomains; preload', 'Content-Security-Policy': 'upgrade-insecure-requests', 'Ncbi-Phid': '939B4489D254C1D5000047ADC65C0B3C.1.1', 'Content-Length': '230', 'X-Datasets-Version': '12.3.0', 'Content-Type': 'application/json', 'Vary': 'Accept-Encoding', 'X-UA-Compatible': 'IE=Edge', 'X-XSS-Protection': '1; mode=block'})\n",
      "HTTP response body: {\"error\":\"Gateway Timeout\",\"code\":504,\"message\":\"Internal server error - request timed out (For more help, see the NCBI Datasets Documentation at https://www.ncbi.nlm.nih.gov/datasets/docs/) (939B4489D254C1D5000047ADC65C0B3C.1)\"}\n",
      "\n",
      " waiting 15s\n"
     ]
    },
    {
     "name": "stderr",
     "output_type": "stream",
     "text": [
      " 99%|█████████▉| 151234/152234 [07:15<00:02, 478.06it/s]"
     ]
    }
   ],
   "source": [
    "#start api \n",
    "api_instance = ncbi.datasets.GenomeApi(ncbi.datasets.ApiClient())\n",
    "\n",
    "#get first assemblies and token for next page\n",
    "genome_summary = api_instance.assembly_descriptors_by_taxon(\n",
    "    taxon=562 , \n",
    "    page_size=MAX_PER_PAGE)\n",
    "token = genome_summary.next_page_token\n",
    "\n",
    "#get assemblies and tokens until there is no token and save to summaries dict\n",
    "summaries = {}\n",
    "pbar = tqdm(total=genome_summary.total_count)\n",
    "while token:\n",
    "    summaries[token] = genome_summary\n",
    "    try:\n",
    "        genome_summary = api_instance.assembly_descriptors_by_taxon(\n",
    "                                                                    taxon=562 ,\n",
    "                                                                    page_size=MAX_PER_PAGE,\n",
    "                                                                    page_token=token\n",
    "                                                                    )\n",
    "    except ApiException as e:\n",
    "        wait = 15\n",
    "        print(f'{e} waiting {wait}s')\n",
    "        time.sleep(wait)\n",
    "        continue\n",
    "        \n",
    "    pbar.update(len(genome_summary.assemblies))\n",
    "    token = genome_summary.next_page_token"
   ]
  },
  {
   "cell_type": "code",
   "execution_count": 40,
   "id": "2b5f6fd5",
   "metadata": {
    "ExecuteTime": {
     "end_time": "2021-07-11T18:50:00.114191Z",
     "start_time": "2021-07-11T18:50:00.109577Z"
    }
   },
   "outputs": [
    {
     "data": {
      "text/plain": [
       "152"
      ]
     },
     "execution_count": 40,
     "metadata": {},
     "output_type": "execute_result"
    }
   ],
   "source": [
    "len(summaries)"
   ]
  },
  {
   "cell_type": "code",
   "execution_count": 90,
   "id": "8a2940c9",
   "metadata": {
    "ExecuteTime": {
     "end_time": "2021-07-11T20:05:06.000889Z",
     "start_time": "2021-07-11T20:05:03.760974Z"
    },
    "scrolled": true
   },
   "outputs": [
    {
     "data": {
      "text/html": [
       "<div>\n",
       "<style scoped>\n",
       "    .dataframe tbody tr th:only-of-type {\n",
       "        vertical-align: middle;\n",
       "    }\n",
       "\n",
       "    .dataframe tbody tr th {\n",
       "        vertical-align: top;\n",
       "    }\n",
       "\n",
       "    .dataframe thead th {\n",
       "        text-align: right;\n",
       "    }\n",
       "</style>\n",
       "<table border=\"1\" class=\"dataframe\">\n",
       "  <thead>\n",
       "    <tr style=\"text-align: right;\">\n",
       "      <th></th>\n",
       "      <th>assm_name</th>\n",
       "      <th>org_name</th>\n",
       "      <th>sci_name</th>\n",
       "      <th>assm_level</th>\n",
       "      <th>num_chromosomes</th>\n",
       "      <th>contig_n50</th>\n",
       "      <th>seq_length</th>\n",
       "      <th>submission_date</th>\n",
       "      <th>estimated_size</th>\n",
       "    </tr>\n",
       "  </thead>\n",
       "  <tbody>\n",
       "    <tr>\n",
       "      <th>GCF_000157115.2</th>\n",
       "      <td>Escherichia_sp_3_2_53FAA_V2</td>\n",
       "      <td>E. coli</td>\n",
       "      <td>Escherichia coli</td>\n",
       "      <td>Scaffold</td>\n",
       "      <td>None</td>\n",
       "      <td>213698</td>\n",
       "      <td>5153453</td>\n",
       "      <td>2015-07-15</td>\n",
       "      <td>7107687</td>\n",
       "    </tr>\n",
       "    <tr>\n",
       "      <th>GCF_000308975.1</th>\n",
       "      <td>ASM30897v2</td>\n",
       "      <td>E. coli</td>\n",
       "      <td>Escherichia coli</td>\n",
       "      <td>Scaffold</td>\n",
       "      <td>None</td>\n",
       "      <td>265118</td>\n",
       "      <td>4754148</td>\n",
       "      <td>2012-11-09</td>\n",
       "      <td>6496550</td>\n",
       "    </tr>\n",
       "    <tr>\n",
       "      <th>GCF_000597845.1</th>\n",
       "      <td>ASM59784v1</td>\n",
       "      <td>E. coli</td>\n",
       "      <td>Escherichia coli</td>\n",
       "      <td>Complete Genome</td>\n",
       "      <td>None</td>\n",
       "      <td>4758629</td>\n",
       "      <td>4758629</td>\n",
       "      <td>2014-03-19</td>\n",
       "      <td>6513981</td>\n",
       "    </tr>\n",
       "    <tr>\n",
       "      <th>GCF_000599625.1</th>\n",
       "      <td>ASM59962v1</td>\n",
       "      <td>E. coli</td>\n",
       "      <td>Escherichia coli</td>\n",
       "      <td>Complete Genome</td>\n",
       "      <td>None</td>\n",
       "      <td>4807977</td>\n",
       "      <td>4807977</td>\n",
       "      <td>2014-03-19</td>\n",
       "      <td>6564642</td>\n",
       "    </tr>\n",
       "    <tr>\n",
       "      <th>GCF_000599645.1</th>\n",
       "      <td>ASM59964v1</td>\n",
       "      <td>E. coli</td>\n",
       "      <td>Escherichia coli</td>\n",
       "      <td>Complete Genome</td>\n",
       "      <td>None</td>\n",
       "      <td>4875682</td>\n",
       "      <td>4875682</td>\n",
       "      <td>2014-03-19</td>\n",
       "      <td>6634296</td>\n",
       "    </tr>\n",
       "    <tr>\n",
       "      <th>...</th>\n",
       "      <td>...</td>\n",
       "      <td>...</td>\n",
       "      <td>...</td>\n",
       "      <td>...</td>\n",
       "      <td>...</td>\n",
       "      <td>...</td>\n",
       "      <td>...</td>\n",
       "      <td>...</td>\n",
       "      <td>...</td>\n",
       "    </tr>\n",
       "    <tr>\n",
       "      <th>GCA_000166555.2</th>\n",
       "      <td>ASM16655v2</td>\n",
       "      <td>Escherichia coli TW10722</td>\n",
       "      <td>Escherichia coli TW10722</td>\n",
       "      <td>Contig</td>\n",
       "      <td>None</td>\n",
       "      <td>135060</td>\n",
       "      <td>5689893</td>\n",
       "      <td>2010-11-15</td>\n",
       "      <td>1702369</td>\n",
       "    </tr>\n",
       "    <tr>\n",
       "      <th>GCA_000166575.2</th>\n",
       "      <td>ASM16657v2</td>\n",
       "      <td>Escherichia coli TW10828</td>\n",
       "      <td>Escherichia coli TW10828</td>\n",
       "      <td>Contig</td>\n",
       "      <td>None</td>\n",
       "      <td>208639</td>\n",
       "      <td>5280267</td>\n",
       "      <td>2010-11-15</td>\n",
       "      <td>1575716</td>\n",
       "    </tr>\n",
       "    <tr>\n",
       "      <th>GCA_000166595.2</th>\n",
       "      <td>ASM16659v2</td>\n",
       "      <td>Escherichia coli TW11681</td>\n",
       "      <td>Escherichia coli TW11681</td>\n",
       "      <td>Contig</td>\n",
       "      <td>None</td>\n",
       "      <td>132862</td>\n",
       "      <td>5305843</td>\n",
       "      <td>2010-11-15</td>\n",
       "      <td>1581153</td>\n",
       "    </tr>\n",
       "    <tr>\n",
       "      <th>GCA_018884445.1</th>\n",
       "      <td>ASM1888444v1</td>\n",
       "      <td>Escherichia coli TW11681</td>\n",
       "      <td>Escherichia coli TW11681</td>\n",
       "      <td>Chromosome</td>\n",
       "      <td>None</td>\n",
       "      <td>4936886</td>\n",
       "      <td>5283837</td>\n",
       "      <td>2021-06-15</td>\n",
       "      <td>1572018</td>\n",
       "    </tr>\n",
       "    <tr>\n",
       "      <th>GCA_000166615.2</th>\n",
       "      <td>ASM16661v2</td>\n",
       "      <td>Escherichia coli TW14425</td>\n",
       "      <td>Escherichia coli TW14425</td>\n",
       "      <td>Contig</td>\n",
       "      <td>None</td>\n",
       "      <td>186331</td>\n",
       "      <td>5210696</td>\n",
       "      <td>2010-11-15</td>\n",
       "      <td>1553803</td>\n",
       "    </tr>\n",
       "  </tbody>\n",
       "</table>\n",
       "<p>152000 rows × 9 columns</p>\n",
       "</div>"
      ],
      "text/plain": [
       "                                   assm_name                  org_name  \\\n",
       "GCF_000157115.2  Escherichia_sp_3_2_53FAA_V2                   E. coli   \n",
       "GCF_000308975.1                   ASM30897v2                   E. coli   \n",
       "GCF_000597845.1                   ASM59784v1                   E. coli   \n",
       "GCF_000599625.1                   ASM59962v1                   E. coli   \n",
       "GCF_000599645.1                   ASM59964v1                   E. coli   \n",
       "...                                      ...                       ...   \n",
       "GCA_000166555.2                   ASM16655v2  Escherichia coli TW10722   \n",
       "GCA_000166575.2                   ASM16657v2  Escherichia coli TW10828   \n",
       "GCA_000166595.2                   ASM16659v2  Escherichia coli TW11681   \n",
       "GCA_018884445.1                 ASM1888444v1  Escherichia coli TW11681   \n",
       "GCA_000166615.2                   ASM16661v2  Escherichia coli TW14425   \n",
       "\n",
       "                                 sci_name       assm_level num_chromosomes  \\\n",
       "GCF_000157115.2          Escherichia coli         Scaffold            None   \n",
       "GCF_000308975.1          Escherichia coli         Scaffold            None   \n",
       "GCF_000597845.1          Escherichia coli  Complete Genome            None   \n",
       "GCF_000599625.1          Escherichia coli  Complete Genome            None   \n",
       "GCF_000599645.1          Escherichia coli  Complete Genome            None   \n",
       "...                                   ...              ...             ...   \n",
       "GCA_000166555.2  Escherichia coli TW10722           Contig            None   \n",
       "GCA_000166575.2  Escherichia coli TW10828           Contig            None   \n",
       "GCA_000166595.2  Escherichia coli TW11681           Contig            None   \n",
       "GCA_018884445.1  Escherichia coli TW11681       Chromosome            None   \n",
       "GCA_000166615.2  Escherichia coli TW14425           Contig            None   \n",
       "\n",
       "                 contig_n50 seq_length submission_date estimated_size  \n",
       "GCF_000157115.2      213698    5153453      2015-07-15        7107687  \n",
       "GCF_000308975.1      265118    4754148      2012-11-09        6496550  \n",
       "GCF_000597845.1     4758629    4758629      2014-03-19        6513981  \n",
       "GCF_000599625.1     4807977    4807977      2014-03-19        6564642  \n",
       "GCF_000599645.1     4875682    4875682      2014-03-19        6634296  \n",
       "...                     ...        ...             ...            ...  \n",
       "GCA_000166555.2      135060    5689893      2010-11-15        1702369  \n",
       "GCA_000166575.2      208639    5280267      2010-11-15        1575716  \n",
       "GCA_000166595.2      132862    5305843      2010-11-15        1581153  \n",
       "GCA_018884445.1     4936886    5283837      2021-06-15        1572018  \n",
       "GCA_000166615.2      186331    5210696      2010-11-15        1553803  \n",
       "\n",
       "[152000 rows x 9 columns]"
      ]
     },
     "metadata": {},
     "output_type": "display_data"
    }
   ],
   "source": [
    "for genome_summary_inst in summaries.values():\n",
    "    for assembly in map(lambda d: d.assembly, genome_summary_inst.assemblies):\n",
    "            assm_table[assembly.assembly_accession] = {\n",
    "            'assm_name': assembly.display_name,\n",
    "            'org_name': assembly.org.title,\n",
    "            'sci_name': assembly.org.sci_name,\n",
    "            'assm_level': assembly.assembly_level,\n",
    "            'num_chromosomes': n_chr,\n",
    "            'contig_n50': assembly.contig_n50,\n",
    "            'seq_length': assembly.seq_length,\n",
    "            'submission_date': assembly.submission_date,\n",
    "             'estimated_size': assembly.estimated_size}\n",
    "\n",
    "df = pd.DataFrame.from_dict(assm_table, orient='index')\n",
    "#df = df.transpose()\n",
    "display(df)"
   ]
  },
  {
   "cell_type": "code",
   "execution_count": 129,
   "id": "d196b710",
   "metadata": {
    "ExecuteTime": {
     "end_time": "2021-07-11T20:25:16.370196Z",
     "start_time": "2021-07-11T20:25:15.618945Z"
    }
   },
   "outputs": [],
   "source": [
    "df.to_csv('../output/coli_asm_df.csv')"
   ]
  },
  {
   "cell_type": "code",
   "execution_count": 21,
   "id": "56c67aac",
   "metadata": {
    "ExecuteTime": {
     "end_time": "2021-07-11T20:36:58.823090Z",
     "start_time": "2021-07-11T20:36:57.241654Z"
    }
   },
   "outputs": [],
   "source": [
    "df = pd.read_csv('../output/coli_asm_df.csv')\n",
    "df = df.rename(columns={\"Unnamed: 0\": \"Acc\"})\n",
    "df['acc_no_version']= df.apply(lambda x: '.'.join(str(x['Acc']).split('.')[:-1]),axis=1)"
   ]
  },
  {
   "cell_type": "code",
   "execution_count": 38,
   "id": "1c5833f4",
   "metadata": {
    "ExecuteTime": {
     "end_time": "2021-07-11T22:44:07.861914Z",
     "start_time": "2021-07-11T20:49:57.311735Z"
    },
    "run_control": {
     "marked": false
    }
   },
   "outputs": [
    {
     "name": "stderr",
     "output_type": "stream",
     "text": [
      "100%|██████████| 151745/151745 [1:54:09<00:00, 22.15it/s]\n"
     ]
    }
   ],
   "source": [
    "cat_df = pd.DataFrame(columns=df.columns)\n",
    "for n,g in tqdm(df.groupby(['acc_no_version'])):\n",
    "    if len(g)>1:\n",
    "        g['acc_version']= g.apply(lambda x: int(str(x['Acc']).split('.')[-1]),axis=1)\n",
    "        i = g['acc_version'].idxmax()\n",
    "        g= g.loc[[i]]\n",
    "        \n",
    "    cat_df = pd.concat([cat_df,g],ignore_index=True)"
   ]
  },
  {
   "cell_type": "code",
   "execution_count": null,
   "id": "6fb51f58",
   "metadata": {
    "ExecuteTime": {
     "start_time": "2021-07-12T07:17:43.189Z"
    },
    "run_control": {
     "marked": true
    },
    "scrolled": true
   },
   "outputs": [
    {
     "data": {
      "application/vnd.jupyter.widget-view+json": {
       "model_id": "fa8677db1c3040f0998fcbdc1aa73403",
       "version_major": 2,
       "version_minor": 0
      },
      "text/plain": [
       "  0%|          | 0/151745 [00:00<?, ?it/s]"
      ]
     },
     "metadata": {},
     "output_type": "display_data"
    }
   ],
   "source": [
    "def chunks(lst, n):\n",
    "    \"\"\"Yield successive n-sized chunks from lst.\"\"\"\n",
    "    for i in range(0, len(lst), n):\n",
    "        yield lst[i:i + n]\n",
    "\n",
    "configuration = ncbi.datasets.openapi.Configuration(host = \"https://api.ncbi.nlm.nih.gov/datasets/v1alpha\")\n",
    "configuration.api_key_prefix['api-key'] = 'Bearer'\n",
    "pbar = tqdm(total = len(cat_df))\n",
    "n=100\n",
    "for i,chunk in enumerate(chunks(cat_df['Acc'].to_list(), n)):\n",
    "    downloaded = False\n",
    "    while not downloaded:\n",
    "        with ncbi.datasets.openapi.ApiClient(configuration) as api_client:\n",
    "            api_instance = ncbi.datasets.openapi.GenomeApi(api_client)\n",
    "        try:\n",
    "            api_response = api_instance.download_assembly_package(chunk,exclude_sequence=False, _preload_content=False)\n",
    "        except ApiException as e:\n",
    "            if e.status == 508:\n",
    "                print(f\"{e.reason} waiting 15s: {e}\")\n",
    "                time.sleep(15)\n",
    "                continue\n",
    "            elif e.status == 414:\n",
    "                print(e.reason)\n",
    "                break\n",
    "            else:\n",
    "                print('Couldnt handle exception')\n",
    "                print(e)\n",
    "                break\n",
    "                \n",
    "        downloaded = True\n",
    "        with open(f'../input/{i}_genome.zip', 'wb') as f:\n",
    "                f.write(api_response.data)\n",
    "        pbar.update(n)"
   ]
  },
  {
   "cell_type": "markdown",
   "id": "bdad2dc4",
   "metadata": {
    "ExecuteTime": {
     "end_time": "2021-07-11T22:44:07.939746Z",
     "start_time": "2021-07-11T22:44:07.937070Z"
    }
   },
   "source": [
    "# Word2Vec Training"
   ]
  },
  {
   "cell_type": "code",
   "execution_count": 2,
   "id": "4b6d2a09",
   "metadata": {
    "ExecuteTime": {
     "end_time": "2021-07-10T10:47:32.482060Z",
     "start_time": "2021-07-10T10:47:32.316217Z"
    }
   },
   "outputs": [],
   "source": [
    "genome = \"../input/GCF_001048035.2_ERL103914_genomic.fna\"\n",
    "seq = ''\n",
    "with open(genome,'r') as r: \n",
    "    for record in SeqIO.parse(r,'fasta'):\n",
    "        seq = record.seq"
   ]
  },
  {
   "cell_type": "code",
   "execution_count": 18,
   "id": "cbeedd2c",
   "metadata": {
    "ExecuteTime": {
     "end_time": "2021-07-10T11:26:34.088082Z",
     "start_time": "2021-07-10T11:26:34.084231Z"
    }
   },
   "outputs": [],
   "source": [
    "def get_kmers_from_seqs(seq, length = 24):\n",
    "    nucleotides = {\"A\", \"C\", \"T\", \"G\"}\n",
    "    kmer_seq = \" \".join([sequence[x : x + length] for x in range(len(sequence) - length + 1)\n",
    "            if len(set(sequence[x : x + length]).difference(nucleotides))==0])\n",
    "    return kmer_seq"
   ]
  },
  {
   "cell_type": "code",
   "execution_count": 19,
   "id": "24f7ba7d",
   "metadata": {
    "ExecuteTime": {
     "end_time": "2021-07-10T11:26:39.850911Z",
     "start_time": "2021-07-10T11:26:34.873987Z"
    }
   },
   "outputs": [],
   "source": [
    "kmers = get_kmers_from_seqs(str(seq))"
   ]
  },
  {
   "cell_type": "code",
   "execution_count": 17,
   "id": "cfb19423",
   "metadata": {
    "ExecuteTime": {
     "end_time": "2021-07-10T11:26:02.904823Z",
     "start_time": "2021-07-10T11:26:01.465035Z"
    }
   },
   "outputs": [
    {
     "name": "stderr",
     "output_type": "stream",
     "text": [
      "2021-07-10 11:26:01,821 : INFO : collecting all words and their counts\n",
      "2021-07-10 11:26:01,822 : INFO : PROGRESS: at sentence #0, processed 0 words, keeping 0 word types\n",
      "2021-07-10 11:26:02,605 : INFO : collected 4096 word types from a corpus of 4758446 raw words and 1 sentences\n",
      "2021-07-10 11:26:02,606 : INFO : Creating a fresh vocabulary\n",
      "2021-07-10 11:26:02,621 : INFO : Word2Vec lifecycle event {'msg': 'effective_min_count=5 retains 4096 unique words (100.0%% of original 4096, drops 0)', 'datetime': '2021-07-10T11:26:02.620981', 'gensim': '4.0.1', 'python': '3.8.5 (default, Sep  4 2020, 07:30:14) \\n[GCC 7.3.0]', 'platform': 'Linux-5.4.0-1046-gcp-x86_64-with-glibc2.10', 'event': 'prepare_vocab'}\n",
      "2021-07-10 11:26:02,621 : INFO : Word2Vec lifecycle event {'msg': 'effective_min_count=5 leaves 4758446 word corpus (100.0%% of original 4758446, drops 0)', 'datetime': '2021-07-10T11:26:02.621911', 'gensim': '4.0.1', 'python': '3.8.5 (default, Sep  4 2020, 07:30:14) \\n[GCC 7.3.0]', 'platform': 'Linux-5.4.0-1046-gcp-x86_64-with-glibc2.10', 'event': 'prepare_vocab'}\n",
      "2021-07-10 11:26:02,645 : INFO : deleting the raw counts dictionary of 4096 items\n",
      "2021-07-10 11:26:02,645 : INFO : sample=0.001 downsamples 0 most-common words\n",
      "2021-07-10 11:26:02,646 : INFO : Word2Vec lifecycle event {'msg': 'downsampling leaves estimated 4758446 word corpus (100.0%% of prior 4758446)', 'datetime': '2021-07-10T11:26:02.646608', 'gensim': '4.0.1', 'python': '3.8.5 (default, Sep  4 2020, 07:30:14) \\n[GCC 7.3.0]', 'platform': 'Linux-5.4.0-1046-gcp-x86_64-with-glibc2.10', 'event': 'prepare_vocab'}\n",
      "2021-07-10 11:26:02,692 : INFO : estimated required memory for 4096 words and 100 dimensions: 5324800 bytes\n",
      "2021-07-10 11:26:02,693 : INFO : resetting layer weights\n",
      "2021-07-10 11:26:02,696 : INFO : Word2Vec lifecycle event {'update': False, 'trim_rule': 'None', 'datetime': '2021-07-10T11:26:02.696194', 'gensim': '4.0.1', 'python': '3.8.5 (default, Sep  4 2020, 07:30:14) \\n[GCC 7.3.0]', 'platform': 'Linux-5.4.0-1046-gcp-x86_64-with-glibc2.10', 'event': 'build_vocab'}\n",
      "2021-07-10 11:26:02,697 : INFO : Word2Vec lifecycle event {'msg': 'training model with 3 workers on 4096 vocabulary and 100 features, using sg=0 hs=0 sample=0.001 negative=5 window=5', 'datetime': '2021-07-10T11:26:02.696989', 'gensim': '4.0.1', 'python': '3.8.5 (default, Sep  4 2020, 07:30:14) \\n[GCC 7.3.0]', 'platform': 'Linux-5.4.0-1046-gcp-x86_64-with-glibc2.10', 'event': 'train'}\n",
      "2021-07-10 11:26:02,702 : INFO : worker thread finished; awaiting finish of 2 more threads\n",
      "2021-07-10 11:26:02,704 : INFO : worker thread finished; awaiting finish of 1 more threads\n",
      "2021-07-10 11:26:02,721 : INFO : worker thread finished; awaiting finish of 0 more threads\n",
      "2021-07-10 11:26:02,721 : INFO : EPOCH - 1 : training on 4758446 raw words (10000 effective words) took 0.0s, 435650 effective words/s\n",
      "2021-07-10 11:26:02,728 : INFO : worker thread finished; awaiting finish of 2 more threads\n",
      "2021-07-10 11:26:02,729 : INFO : worker thread finished; awaiting finish of 1 more threads\n",
      "2021-07-10 11:26:02,745 : INFO : worker thread finished; awaiting finish of 0 more threads\n",
      "2021-07-10 11:26:02,746 : INFO : EPOCH - 2 : training on 4758446 raw words (10000 effective words) took 0.0s, 446032 effective words/s\n",
      "2021-07-10 11:26:02,752 : INFO : worker thread finished; awaiting finish of 2 more threads\n",
      "2021-07-10 11:26:02,752 : INFO : worker thread finished; awaiting finish of 1 more threads\n",
      "2021-07-10 11:26:02,770 : INFO : worker thread finished; awaiting finish of 0 more threads\n",
      "2021-07-10 11:26:02,771 : INFO : EPOCH - 3 : training on 4758446 raw words (10000 effective words) took 0.0s, 487670 effective words/s\n",
      "2021-07-10 11:26:02,776 : INFO : worker thread finished; awaiting finish of 2 more threads\n",
      "2021-07-10 11:26:02,778 : INFO : worker thread finished; awaiting finish of 1 more threads\n",
      "2021-07-10 11:26:02,795 : INFO : worker thread finished; awaiting finish of 0 more threads\n",
      "2021-07-10 11:26:02,796 : INFO : EPOCH - 4 : training on 4758446 raw words (10000 effective words) took 0.0s, 493170 effective words/s\n",
      "2021-07-10 11:26:02,802 : INFO : worker thread finished; awaiting finish of 2 more threads\n",
      "2021-07-10 11:26:02,802 : INFO : worker thread finished; awaiting finish of 1 more threads\n",
      "2021-07-10 11:26:02,820 : INFO : worker thread finished; awaiting finish of 0 more threads\n",
      "2021-07-10 11:26:02,820 : INFO : EPOCH - 5 : training on 4758446 raw words (10000 effective words) took 0.0s, 439498 effective words/s\n",
      "2021-07-10 11:26:02,821 : INFO : Word2Vec lifecycle event {'msg': 'training on 23792230 raw words (50000 effective words) took 0.1s, 403342 effective words/s', 'datetime': '2021-07-10T11:26:02.821533', 'gensim': '4.0.1', 'python': '3.8.5 (default, Sep  4 2020, 07:30:14) \\n[GCC 7.3.0]', 'platform': 'Linux-5.4.0-1046-gcp-x86_64-with-glibc2.10', 'event': 'train'}\n",
      "2021-07-10 11:26:02,822 : INFO : Word2Vec lifecycle event {'params': 'Word2Vec(vocab=4096, vector_size=100, alpha=0.025)', 'datetime': '2021-07-10T11:26:02.822452', 'gensim': '4.0.1', 'python': '3.8.5 (default, Sep  4 2020, 07:30:14) \\n[GCC 7.3.0]', 'platform': 'Linux-5.4.0-1046-gcp-x86_64-with-glibc2.10', 'event': 'created'}\n"
     ]
    },
    {
     "name": "stdout",
     "output_type": "stream",
     "text": [
      "CPU times: user 1.27 s, sys: 189 ms, total: 1.45 s\n",
      "Wall time: 1.44 s\n"
     ]
    }
   ],
   "source": [
    "logging.basicConfig(format='%(asctime)s : %(levelname)s : %(message)s', level=logging.INFO)\n",
    "%time model =Word2Vec([kmers.split()])"
   ]
  },
  {
   "cell_type": "code",
   "execution_count": 15,
   "id": "ed533ce0",
   "metadata": {
    "ExecuteTime": {
     "end_time": "2021-07-10T11:23:07.055538Z",
     "start_time": "2021-07-10T11:23:06.614669Z"
    }
   },
   "outputs": [
    {
     "data": {
      "text/plain": [
       "'GTGTCA'"
      ]
     },
     "execution_count": 15,
     "metadata": {},
     "output_type": "execute_result"
    }
   ],
   "source": [
    "kmers.split()[0]"
   ]
  },
  {
   "cell_type": "code",
   "execution_count": 16,
   "id": "3af2b60c",
   "metadata": {
    "ExecuteTime": {
     "end_time": "2021-07-10T11:23:14.062172Z",
     "start_time": "2021-07-10T11:23:13.584188Z"
    }
   },
   "outputs": [
    {
     "data": {
      "text/plain": [
       "[('TTACCT', 0.31725436449050903),\n",
       " ('TATTAA', 0.309436559677124),\n",
       " ('AACCGA', 0.30347490310668945),\n",
       " ('CTCTGA', 0.30186134576797485),\n",
       " ('TGATGA', 0.29212871193885803),\n",
       " ('CCCTCG', 0.2882496118545532),\n",
       " ('TCTTGG', 0.2879343628883362),\n",
       " ('TACTTT', 0.286830872297287),\n",
       " ('CATGGT', 0.2776031494140625),\n",
       " ('TGCGCA', 0.2743334174156189)]"
      ]
     },
     "execution_count": 16,
     "metadata": {},
     "output_type": "execute_result"
    }
   ],
   "source": [
    "model.wv.most_similar(kmers.split()[0])"
   ]
  },
  {
   "cell_type": "code",
   "execution_count": null,
   "id": "33f11665",
   "metadata": {},
   "outputs": [],
   "source": []
  }
 ],
 "metadata": {
  "kernelspec": {
   "display_name": "Python 3",
   "language": "python",
   "name": "python3"
  },
  "language_info": {
   "codemirror_mode": {
    "name": "ipython",
    "version": 3
   },
   "file_extension": ".py",
   "mimetype": "text/x-python",
   "name": "python",
   "nbconvert_exporter": "python",
   "pygments_lexer": "ipython3",
   "version": "3.8.5"
  },
  "toc": {
   "base_numbering": 1,
   "nav_menu": {},
   "number_sections": true,
   "sideBar": true,
   "skip_h1_title": false,
   "title_cell": "Table of Contents",
   "title_sidebar": "Contents",
   "toc_cell": false,
   "toc_position": {},
   "toc_section_display": true,
   "toc_window_display": false
  },
  "varInspector": {
   "cols": {
    "lenName": 16,
    "lenType": 16,
    "lenVar": 40
   },
   "kernels_config": {
    "python": {
     "delete_cmd_postfix": "",
     "delete_cmd_prefix": "del ",
     "library": "var_list.py",
     "varRefreshCmd": "print(var_dic_list())"
    },
    "r": {
     "delete_cmd_postfix": ") ",
     "delete_cmd_prefix": "rm(",
     "library": "var_list.r",
     "varRefreshCmd": "cat(var_dic_list()) "
    }
   },
   "position": {
    "height": "533.523px",
    "left": "207.364px",
    "right": "20px",
    "top": "97px",
    "width": "800px"
   },
   "types_to_exclude": [
    "module",
    "function",
    "builtin_function_or_method",
    "instance",
    "_Feature"
   ],
   "window_display": false
  }
 },
 "nbformat": 4,
 "nbformat_minor": 5
}
